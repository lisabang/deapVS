{
 "cells": [
  {
   "cell_type": "code",
   "execution_count": 1,
   "metadata": {},
   "outputs": [],
   "source": [
    "import pandas as pd"
   ]
  },
  {
   "cell_type": "code",
   "execution_count": 2,
   "metadata": {},
   "outputs": [],
   "source": [
    "xt=pd.read_csv(\"/home/lisa/PycharmProjects/deapVS/datasets/liu_thrb_lb_dragon6.txt\", sep=\"\\t\")"
   ]
  },
  {
   "cell_type": "code",
   "execution_count": 3,
   "metadata": {},
   "outputs": [],
   "source": [
    " yt=pd.read_csv(\"/home/lisa/PycharmProjects/deapVS/datasets/liu_thrb_orig.csv\")\n"
   ]
  },
  {
   "cell_type": "code",
   "execution_count": 4,
   "metadata": {},
   "outputs": [
    {
     "name": "stdout",
     "output_type": "stream",
     "text": [
      "Python 3.7.1\r\n"
     ]
    }
   ],
   "source": [
    "!python --version"
   ]
  },
  {
   "cell_type": "code",
   "execution_count": 5,
   "metadata": {},
   "outputs": [],
   "source": [
    "import numpy as np\n",
    "import sklearn.model_selection as skms"
   ]
  },
  {
   "cell_type": "code",
   "execution_count": 6,
   "metadata": {},
   "outputs": [],
   "source": [
    "import numpy as np\n",
    "import sklearn.model_selection as skms\n",
    "\n",
    "\n",
    "def mlr(x_of_trainingset, y_actual):\n",
    "    columnnames = list(x_of_trainingset.columns.values)\n",
    "    npones = np.ones(len(y_actual), float)\n",
    "    A_sl = x_of_trainingset.as_matrix()\n",
    "    A = np.column_stack([A_sl, npones])\n",
    "    lstsq, residuals, rank, something = np.linalg.lstsq(A, y_actual)\n",
    "    degfreedom = y_actual.size - 1\n",
    "\n",
    "    r2 = 1 - residuals / (y_actual.size * y_actual.var())\n",
    "    r2adj = 1 - (((1 - r2) * degfreedom) / (y_actual.size - rank - 2))\n",
    "    RMSE = np.sqrt(1 - r2) * np.std(y_actual)\n",
    "\n",
    "    # fitness=collections.namedtuple([x_of_trainingset],[r2,r2adj,RMSE])\n",
    "    return lstsq, rank, r2, r2adj, RMSE\n",
    "\n",
    "    # y_predicted=(lstsq[0]*liu_train(0))+(lstsq[1]*liu_train(1))+(lstsq[2])+(lstsq[3])+(lstsq[4])+(lstsq[5])+lstsq[6]\n",
    "    # print \"y-predicted:\"\n",
    "    # print y_predicted\n",
    "\n",
    "\n",
    "def mlrr(x_of_trainingset, y_actual):\n",
    "    npones = np.ones(len(x_of_trainingset), float)\n",
    "\n",
    "    A_sl = x_of_trainingset\n",
    "    A = np.column_stack([A_sl, npones])\n",
    "\n",
    "    lstsq, residuals, rank, something = np.linalg.lstsq(A, y_actual)\n",
    "    return lstsq\n",
    "\n",
    "\n",
    "def pmlr(x_of_trainingset, y_actual):\n",
    "    npones = np.ones(len(y_actual), float)\n",
    "    A = np.column_stack([x_of_trainingset, npones])\n",
    "    lstsq = np.dot(np.linalg.pinv(A), y_actual)\n",
    "    return lstsq\n",
    "\n",
    "\n",
    "def kfoldmlr(xi, yi, **kwargs):\n",
    "    '''gives the y-hats for a q2LOO calculation'''\n",
    "    x = xi.values\n",
    "    y = yi.values\n",
    "\n",
    "    kf = skms.KFold(n_splits=nfolds)  # indices=None, shuffle=False, random_state=None)\n",
    "    y_hats = []\n",
    "    print(kf)\n",
    "    for train_index, test_index in kf.get_n_splits(x):\n",
    "        x_train, x_test = x[train_index], x[test_index]\n",
    "        y_train, y_test = y[train_index], y[test_index]\n",
    "        coefficients = mlrr(x_train, y_train)\n",
    "        # x_train=x_train\n",
    "        # y_train=y_train\n",
    "        yhat = coefficients[-1]\n",
    "\n",
    "        for index in range(x_test.size):\n",
    "            slopetimesx = x_test[0][index] * coefficients[index]\n",
    "            yhat = yhat + slopetimesx\n",
    "        y_hats.append(float(yhat))\n",
    "\n",
    "    # cleanyhats=[]\n",
    "    # for e in y_hats:\n",
    "    #    cleanyhats.append(float(e))\n",
    "    stack = np.asarray(y_hats)\n",
    "    return stack\n",
    "\n"
   ]
  },
  {
   "cell_type": "code",
   "execution_count": null,
   "metadata": {},
   "outputs": [],
   "source": [
    "mlrr(xt,yt)"
   ]
  }
 ],
 "metadata": {
  "kernelspec": {
   "display_name": "Python 3",
   "language": "python",
   "name": "python3"
  },
  "language_info": {
   "codemirror_mode": {
    "name": "ipython",
    "version": 3
   },
   "file_extension": ".py",
   "mimetype": "text/x-python",
   "name": "python",
   "nbconvert_exporter": "python",
   "pygments_lexer": "ipython3",
   "version": "3.6.7"
  }
 },
 "nbformat": 4,
 "nbformat_minor": 2
}
