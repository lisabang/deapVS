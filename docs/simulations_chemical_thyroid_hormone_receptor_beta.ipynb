{
 "cells": [
  {
   "cell_type": "code",
   "execution_count": 20,
   "metadata": {},
   "outputs": [],
   "source": [
    "import pandas as pd"
   ]
  },
  {
   "cell_type": "code",
   "execution_count": 21,
   "metadata": {},
   "outputs": [
    {
     "name": "stdout",
     "output_type": "stream",
     "text": [
      "total 0\r\n",
      "drwxr-xr-x   3 lisabang  staff   96 Jul  8 01:30 \u001b[34m.\u001b[m\u001b[m/\r\n",
      "drwxr-xr-x   4 lisabang  staff  128 Jul  8 01:30 \u001b[34mliuthyroid\u001b[m\u001b[m/\r\n",
      "drwxr-xr-x  12 lisabang  staff  384 Jul  8 01:30 \u001b[34m..\u001b[m\u001b[m/\r\n"
     ]
    }
   ],
   "source": [
    "ls -arlt ../datasets/"
   ]
  },
  {
   "cell_type": "code",
   "execution_count": 22,
   "metadata": {},
   "outputs": [],
   "source": [
    "yt=pd.read_csv(\"../datasets/liuthyroid/liu_thrb_orig.csv\", index_col=0)\n",
    "xt=pd.read_csv(\"../datasets/liuthyroid/liu_thrb_lb_dragon6.txt\", sep=\"\\t\", index_col=0)"
   ]
  },
  {
   "cell_type": "code",
   "execution_count": 39,
   "metadata": {},
   "outputs": [
    {
     "data": {
      "text/latex": [
       "$$Y_i = \\beta_{i0} + \\beta_{i 1} X_1 + \\beta_{i2} X_2 + \\ldots + \\beta_{ip}X_p +\\epsilon_i$$\n"
      ],
      "text/plain": [
       "<IPython.core.display.Latex object>"
      ]
     },
     "metadata": {},
     "output_type": "display_data"
    }
   ],
   "source": [
    "%%latex\n",
    "$$Y_i = \\beta_{i0} + \\beta_{i 1} X_1 + \\beta_{i2} X_2 + \\ldots + \\beta_{ip}X_p +\\epsilon_i$$"
   ]
  },
  {
   "cell_type": "code",
   "execution_count": 23,
   "metadata": {},
   "outputs": [
    {
     "data": {
      "text/html": [
       "<div>\n",
       "<style scoped>\n",
       "    .dataframe tbody tr th:only-of-type {\n",
       "        vertical-align: middle;\n",
       "    }\n",
       "\n",
       "    .dataframe tbody tr th {\n",
       "        vertical-align: top;\n",
       "    }\n",
       "\n",
       "    .dataframe thead th {\n",
       "        text-align: right;\n",
       "    }\n",
       "</style>\n",
       "<table border=\"1\" class=\"dataframe\">\n",
       "  <thead>\n",
       "    <tr style=\"text-align: right;\">\n",
       "      <th></th>\n",
       "      <th>GATS1e</th>\n",
       "      <th>EEig08x</th>\n",
       "      <th>EEig07d</th>\n",
       "      <th>GGI6</th>\n",
       "      <th>R6v+</th>\n",
       "      <th>H-051</th>\n",
       "      <th>Y Exp.</th>\n",
       "      <th>Y-Pred</th>\n",
       "      <th>Seta</th>\n",
       "    </tr>\n",
       "    <tr>\n",
       "      <th>ID</th>\n",
       "      <th></th>\n",
       "      <th></th>\n",
       "      <th></th>\n",
       "      <th></th>\n",
       "      <th></th>\n",
       "      <th></th>\n",
       "      <th></th>\n",
       "      <th></th>\n",
       "      <th></th>\n",
       "    </tr>\n",
       "  </thead>\n",
       "  <tbody>\n",
       "    <tr>\n",
       "      <th>1</th>\n",
       "      <td>0.722</td>\n",
       "      <td>2.372</td>\n",
       "      <td>1.846</td>\n",
       "      <td>0.771</td>\n",
       "      <td>0.042</td>\n",
       "      <td>0</td>\n",
       "      <td>9.59</td>\n",
       "      <td>9.84</td>\n",
       "      <td>1</td>\n",
       "    </tr>\n",
       "    <tr>\n",
       "      <th>2</th>\n",
       "      <td>0.710</td>\n",
       "      <td>1.869</td>\n",
       "      <td>1.846</td>\n",
       "      <td>0.567</td>\n",
       "      <td>0.046</td>\n",
       "      <td>2</td>\n",
       "      <td>10.32</td>\n",
       "      <td>10.43</td>\n",
       "      <td>1</td>\n",
       "    </tr>\n",
       "    <tr>\n",
       "      <th>3</th>\n",
       "      <td>0.709</td>\n",
       "      <td>2.372</td>\n",
       "      <td>2.145</td>\n",
       "      <td>0.771</td>\n",
       "      <td>0.031</td>\n",
       "      <td>0</td>\n",
       "      <td>9.96</td>\n",
       "      <td>10.62</td>\n",
       "      <td>1</td>\n",
       "    </tr>\n",
       "    <tr>\n",
       "      <th>4</th>\n",
       "      <td>0.705</td>\n",
       "      <td>1.984</td>\n",
       "      <td>1.846</td>\n",
       "      <td>0.690</td>\n",
       "      <td>0.049</td>\n",
       "      <td>2</td>\n",
       "      <td>10.72</td>\n",
       "      <td>10.47</td>\n",
       "      <td>1</td>\n",
       "    </tr>\n",
       "    <tr>\n",
       "      <th>5</th>\n",
       "      <td>0.732</td>\n",
       "      <td>2.334</td>\n",
       "      <td>2.145</td>\n",
       "      <td>0.690</td>\n",
       "      <td>0.033</td>\n",
       "      <td>2</td>\n",
       "      <td>10.60</td>\n",
       "      <td>9.56</td>\n",
       "      <td>1</td>\n",
       "    </tr>\n",
       "  </tbody>\n",
       "</table>\n",
       "</div>"
      ],
      "text/plain": [
       "    GATS1e  EEig08x  EEig07d   GGI6   R6v+  H-051  Y Exp.  Y-Pred  Seta\n",
       "ID                                                                     \n",
       "1    0.722    2.372    1.846  0.771  0.042      0    9.59    9.84     1\n",
       "2    0.710    1.869    1.846  0.567  0.046      2   10.32   10.43     1\n",
       "3    0.709    2.372    2.145  0.771  0.031      0    9.96   10.62     1\n",
       "4    0.705    1.984    1.846  0.690  0.049      2   10.72   10.47     1\n",
       "5    0.732    2.334    2.145  0.690  0.033      2   10.60    9.56     1"
      ]
     },
     "execution_count": 23,
     "metadata": {},
     "output_type": "execute_result"
    }
   ],
   "source": [
    "yt.head()"
   ]
  },
  {
   "cell_type": "code",
   "execution_count": 24,
   "metadata": {
    "scrolled": false
   },
   "outputs": [],
   "source": [
    "yt=yt[\"Y Exp.\"].dropna()\n",
    "xt=xt.dropna()\n",
    "xt=xt.drop(columns=[\"NAME\"])"
   ]
  },
  {
   "cell_type": "code",
   "execution_count": 25,
   "metadata": {},
   "outputs": [],
   "source": []
  },
  {
   "cell_type": "code",
   "execution_count": 26,
   "metadata": {},
   "outputs": [
    {
     "data": {
      "text/html": [
       "<div>\n",
       "<style scoped>\n",
       "    .dataframe tbody tr th:only-of-type {\n",
       "        vertical-align: middle;\n",
       "    }\n",
       "\n",
       "    .dataframe tbody tr th {\n",
       "        vertical-align: top;\n",
       "    }\n",
       "\n",
       "    .dataframe thead th {\n",
       "        text-align: right;\n",
       "    }\n",
       "</style>\n",
       "<table border=\"1\" class=\"dataframe\">\n",
       "  <thead>\n",
       "    <tr style=\"text-align: right;\">\n",
       "      <th></th>\n",
       "      <th>MW</th>\n",
       "      <th>AMW</th>\n",
       "      <th>Sv</th>\n",
       "      <th>Mv</th>\n",
       "      <th>Me</th>\n",
       "      <th>Mp</th>\n",
       "      <th>Mi</th>\n",
       "      <th>nBM</th>\n",
       "      <th>RBN</th>\n",
       "      <th>RBF</th>\n",
       "      <th>...</th>\n",
       "      <th>DLS_07</th>\n",
       "      <th>DLS_cons</th>\n",
       "      <th>LLS_01</th>\n",
       "      <th>LLS_02</th>\n",
       "      <th>CMC-80</th>\n",
       "      <th>Inflammat-80</th>\n",
       "      <th>Psychotic-80</th>\n",
       "      <th>Hypertens-80</th>\n",
       "      <th>Neoplastic-80</th>\n",
       "      <th>Infective-80</th>\n",
       "    </tr>\n",
       "    <tr>\n",
       "      <th>No.</th>\n",
       "      <th></th>\n",
       "      <th></th>\n",
       "      <th></th>\n",
       "      <th></th>\n",
       "      <th></th>\n",
       "      <th></th>\n",
       "      <th></th>\n",
       "      <th></th>\n",
       "      <th></th>\n",
       "      <th></th>\n",
       "      <th></th>\n",
       "      <th></th>\n",
       "      <th></th>\n",
       "      <th></th>\n",
       "      <th></th>\n",
       "      <th></th>\n",
       "      <th></th>\n",
       "      <th></th>\n",
       "      <th></th>\n",
       "      <th></th>\n",
       "      <th></th>\n",
       "    </tr>\n",
       "  </thead>\n",
       "  <tbody>\n",
       "    <tr>\n",
       "      <th>1</th>\n",
       "      <td>650.98</td>\n",
       "      <td>18.599</td>\n",
       "      <td>26.519</td>\n",
       "      <td>0.758</td>\n",
       "      <td>1.023</td>\n",
       "      <td>0.889</td>\n",
       "      <td>1.097</td>\n",
       "      <td>13</td>\n",
       "      <td>5</td>\n",
       "      <td>0.139</td>\n",
       "      <td>...</td>\n",
       "      <td>1.0</td>\n",
       "      <td>0.65</td>\n",
       "      <td>0.17</td>\n",
       "      <td>0.88</td>\n",
       "      <td>0</td>\n",
       "      <td>0</td>\n",
       "      <td>0</td>\n",
       "      <td>0</td>\n",
       "      <td>0</td>\n",
       "      <td>0</td>\n",
       "    </tr>\n",
       "    <tr>\n",
       "      <th>3</th>\n",
       "      <td>567.18</td>\n",
       "      <td>12.890</td>\n",
       "      <td>29.782</td>\n",
       "      <td>0.677</td>\n",
       "      <td>1.009</td>\n",
       "      <td>0.767</td>\n",
       "      <td>1.112</td>\n",
       "      <td>13</td>\n",
       "      <td>6</td>\n",
       "      <td>0.133</td>\n",
       "      <td>...</td>\n",
       "      <td>1.0</td>\n",
       "      <td>0.88</td>\n",
       "      <td>0.17</td>\n",
       "      <td>0.88</td>\n",
       "      <td>0</td>\n",
       "      <td>0</td>\n",
       "      <td>0</td>\n",
       "      <td>0</td>\n",
       "      <td>0</td>\n",
       "      <td>0</td>\n",
       "    </tr>\n",
       "    <tr>\n",
       "      <th>4</th>\n",
       "      <td>635.96</td>\n",
       "      <td>19.272</td>\n",
       "      <td>25.497</td>\n",
       "      <td>0.773</td>\n",
       "      <td>1.021</td>\n",
       "      <td>0.913</td>\n",
       "      <td>1.088</td>\n",
       "      <td>13</td>\n",
       "      <td>5</td>\n",
       "      <td>0.147</td>\n",
       "      <td>...</td>\n",
       "      <td>1.0</td>\n",
       "      <td>0.61</td>\n",
       "      <td>0.17</td>\n",
       "      <td>0.75</td>\n",
       "      <td>0</td>\n",
       "      <td>0</td>\n",
       "      <td>0</td>\n",
       "      <td>0</td>\n",
       "      <td>0</td>\n",
       "      <td>0</td>\n",
       "    </tr>\n",
       "    <tr>\n",
       "      <th>5</th>\n",
       "      <td>458.16</td>\n",
       "      <td>10.909</td>\n",
       "      <td>28.178</td>\n",
       "      <td>0.671</td>\n",
       "      <td>1.014</td>\n",
       "      <td>0.718</td>\n",
       "      <td>1.111</td>\n",
       "      <td>13</td>\n",
       "      <td>6</td>\n",
       "      <td>0.140</td>\n",
       "      <td>...</td>\n",
       "      <td>1.0</td>\n",
       "      <td>0.87</td>\n",
       "      <td>0.17</td>\n",
       "      <td>0.88</td>\n",
       "      <td>0</td>\n",
       "      <td>0</td>\n",
       "      <td>0</td>\n",
       "      <td>0</td>\n",
       "      <td>0</td>\n",
       "      <td>0</td>\n",
       "    </tr>\n",
       "    <tr>\n",
       "      <th>6</th>\n",
       "      <td>430.10</td>\n",
       "      <td>11.947</td>\n",
       "      <td>25.124</td>\n",
       "      <td>0.698</td>\n",
       "      <td>1.023</td>\n",
       "      <td>0.739</td>\n",
       "      <td>1.107</td>\n",
       "      <td>13</td>\n",
       "      <td>4</td>\n",
       "      <td>0.108</td>\n",
       "      <td>...</td>\n",
       "      <td>1.0</td>\n",
       "      <td>0.87</td>\n",
       "      <td>0.17</td>\n",
       "      <td>1.00</td>\n",
       "      <td>1</td>\n",
       "      <td>0</td>\n",
       "      <td>0</td>\n",
       "      <td>0</td>\n",
       "      <td>0</td>\n",
       "      <td>0</td>\n",
       "    </tr>\n",
       "  </tbody>\n",
       "</table>\n",
       "<p>5 rows × 1176 columns</p>\n",
       "</div>"
      ],
      "text/plain": [
       "         MW     AMW      Sv     Mv     Me     Mp     Mi  nBM  RBN    RBF  ...  \\\n",
       "No.                                                                       ...   \n",
       "1    650.98  18.599  26.519  0.758  1.023  0.889  1.097   13    5  0.139  ...   \n",
       "3    567.18  12.890  29.782  0.677  1.009  0.767  1.112   13    6  0.133  ...   \n",
       "4    635.96  19.272  25.497  0.773  1.021  0.913  1.088   13    5  0.147  ...   \n",
       "5    458.16  10.909  28.178  0.671  1.014  0.718  1.111   13    6  0.140  ...   \n",
       "6    430.10  11.947  25.124  0.698  1.023  0.739  1.107   13    4  0.108  ...   \n",
       "\n",
       "     DLS_07  DLS_cons  LLS_01  LLS_02  CMC-80  Inflammat-80  Psychotic-80  \\\n",
       "No.                                                                         \n",
       "1       1.0      0.65    0.17    0.88       0             0             0   \n",
       "3       1.0      0.88    0.17    0.88       0             0             0   \n",
       "4       1.0      0.61    0.17    0.75       0             0             0   \n",
       "5       1.0      0.87    0.17    0.88       0             0             0   \n",
       "6       1.0      0.87    0.17    1.00       1             0             0   \n",
       "\n",
       "     Hypertens-80  Neoplastic-80  Infective-80  \n",
       "No.                                             \n",
       "1               0              0             0  \n",
       "3               0              0             0  \n",
       "4               0              0             0  \n",
       "5               0              0             0  \n",
       "6               0              0             0  \n",
       "\n",
       "[5 rows x 1176 columns]"
      ]
     },
     "execution_count": 26,
     "metadata": {},
     "output_type": "execute_result"
    }
   ],
   "source": [
    "xt.head()"
   ]
  },
  {
   "cell_type": "code",
   "execution_count": 27,
   "metadata": {},
   "outputs": [
    {
     "name": "stdout",
     "output_type": "stream",
     "text": [
      "Requirement already satisfied: matplotlib in /Users/lisabang/anaconda3/lib/python3.7/site-packages (3.0.3)\n",
      "Requirement already satisfied: numpy>=1.10.0 in /Users/lisabang/anaconda3/lib/python3.7/site-packages (from matplotlib) (1.16.2)\n",
      "Requirement already satisfied: cycler>=0.10 in /Users/lisabang/anaconda3/lib/python3.7/site-packages (from matplotlib) (0.10.0)\n",
      "Requirement already satisfied: kiwisolver>=1.0.1 in /Users/lisabang/anaconda3/lib/python3.7/site-packages (from matplotlib) (1.0.1)\n",
      "Requirement already satisfied: pyparsing!=2.0.4,!=2.1.2,!=2.1.6,>=2.0.1 in /Users/lisabang/anaconda3/lib/python3.7/site-packages (from matplotlib) (2.3.1)\n",
      "Requirement already satisfied: python-dateutil>=2.1 in /Users/lisabang/anaconda3/lib/python3.7/site-packages (from matplotlib) (2.8.0)\n",
      "Requirement already satisfied: six in /Users/lisabang/anaconda3/lib/python3.7/site-packages (from cycler>=0.10->matplotlib) (1.12.0)\n",
      "Requirement already satisfied: setuptools in /Users/lisabang/anaconda3/lib/python3.7/site-packages (from kiwisolver>=1.0.1->matplotlib) (40.8.0)\n"
     ]
    }
   ],
   "source": [
    "!pip install matplotlib"
   ]
  },
  {
   "cell_type": "code",
   "execution_count": 28,
   "metadata": {},
   "outputs": [],
   "source": [
    "import numpy as np\n",
    "import sklearn.model_selection as skms\n",
    "import matplotlib.pyplot as plt\n",
    "\n",
    "def mlr(x_of_trainingset, y_actual):\n",
    "    columnnames = list(x_of_trainingset.columns.values)\n",
    "    npones = np.ones(len(y_actual), float)\n",
    "    A_sl = x_of_trainingset.as_matrix()\n",
    "    A = np.column_stack([A_sl, npones])\n",
    "    lstsq, residuals, rank, something = np.linalg.lstsq(A, y_actual)\n",
    "    degfreedom = y_actual.size - 1\n",
    "\n",
    "    r2 = 1 - residuals / (y_actual.size * y_actual.var())\n",
    "    r2adj = 1 - (((1 - r2) * degfreedom) / (y_actual.size - rank - 2))\n",
    "    RMSE = np.sqrt(1 - r2) * np.std(y_actual)\n",
    "\n",
    "    # fitness=collections.namedtuple([x_of_trainingset],[r2,r2adj,RMSE])\n",
    "    return lstsq, rank, r2, r2adj, RMSE\n",
    "\n",
    "    # y_predicted=(lstsq[0]*liu_train(0))+(lstsq[1]*liu_train(1))+(lstsq[2])+(lstsq[3])+(lstsq[4])+(lstsq[5])+lstsq[6]\n",
    "    # print \"y-predicted:\"\n",
    "    # print y_predicted\n",
    "\n",
    "from sklearn.linear_model import LinearRegression\n",
    "\n",
    "def mlr_r2(X,y):\n",
    "    model = LinearRegression()\n",
    "    model.fit(X, y)\n",
    "    # compute with formulas from the theory\n",
    "    yhat = model.predict(X)\n",
    "    SS_Residual = sum((y-yhat)**2)\n",
    "    SS_Total = sum((y-np.mean(y))**2)\n",
    "    r_squared = 1 - (float(SS_Residual))/SS_Total\n",
    "    adjusted_r_squared = 1 - (1-r_squared)*(len(y)-1)/(len(y)-X.shape[1]-1)\n",
    "    return r_squared, adjusted_r_squared\n",
    "\n",
    "def mlr_r2_2(X,y):\n",
    "    model = LinearRegression()\n",
    "    model.fit(X, y)\n",
    "    # compute with sklearn linear_model, although could not find any function to compute adjusted-r-square directly from documentation\n",
    "    return model.score(X, y), 1 - (1-model.score(X, y))*(len(y)-1)/(len(y)-X.shape[1]-1)\n",
    "\n",
    "def mlrr(x_of_trainingset, y_actual):\n",
    "    #usethis\n",
    "    npones = np.ones(len(x_of_trainingset), float)\n",
    "    A_sl = x_of_trainingset\n",
    "    A = np.column_stack([A_sl, npones])\n",
    "    lstsq, residuals, rank, something = np.linalg.lstsq(A, y_actual)\n",
    "    return lstsq, residuals\n",
    "def pmlr(x_of_trainingset, y_actual):\n",
    "    npones = np.ones(len(y_actual), float)\n",
    "    A = np.column_stack([x_of_trainingset, npones])\n",
    "    lstsq = np.dot(np.linalg.pinv(A), y_actual)\n",
    "    return lstsq\n",
    "\n",
    "\n",
    "def kfoldmlr(xi, yi, **kwargs):\n",
    "    '''gives the y-hats for a q2LOO calculation'''\n",
    "    x = xi.values\n",
    "    y = yi.values\n",
    "    nfolds=kwargs[\"nfolds\"]\n",
    "    mean=kwargs[\"mean\"]\n",
    "    kf = skms.KFold(n_splits=nfolds)  # indices=None, shuffle=False, random_state=None)\n",
    "    y_hats = []\n",
    "    print(kf)\n",
    "    for train_index, test_index in kf.split(x):\n",
    "        x_train, x_test = x[train_index], x[test_index]\n",
    "        y_train, y_test = y[train_index], y[test_index]\n",
    "        coefficients = mlrr(x_train, y_train)[0]\n",
    "        resids = mlrr(x_train, y_train)[1]\n",
    "        y_hats.append(resids)\n",
    "    # for e in y_hats:\n",
    "    #    cleanyhats.append(float(e))\n",
    "    stack = np.asarray(y_hats)\n",
    "    if mean==True:\n",
    "        return np.mean(stack)\n",
    "    else:\n",
    "        return stack\n",
    "\n",
    "\n",
    "def kfoldmlrplot(xi, yi, **kwargs):\n",
    "    '''gives the y-hats for a q2LOO calculation'''\n",
    "    x = xi.values\n",
    "    y = yi.values\n",
    "    nfolds=kwargs[\"nfolds\"]\n",
    "    kf = skms.KFold(n_splits=nfolds)  # indices=None, shuffle=False, random_state=None)\n",
    "    y_hats = []\n",
    "    print(kf)\n",
    "    for train_index, test_index in kf.split(x):\n",
    "        x_train, x_test = x[train_index], x[test_index]\n",
    "        y_train, y_test = y[train_index], y[test_index]\n",
    "        coefficients = mlrr(x_train, y_train)[0]\n",
    "        resids = mlrr(x_train, y_train)[1]\n",
    "        plt.plot(x_train, y_train, 'o', label='Original data', markersize=5)\n",
    "        plt.plot(x_train, coefficients[0]*x_train + coefficients[1], 'r', label='Fitted line')\n",
    "        plt.legend()\n",
    "        plt.show()\n"
   ]
  },
  {
   "cell_type": "code",
   "execution_count": 29,
   "metadata": {},
   "outputs": [
    {
     "data": {
      "text/html": [
       "<div>\n",
       "<style scoped>\n",
       "    .dataframe tbody tr th:only-of-type {\n",
       "        vertical-align: middle;\n",
       "    }\n",
       "\n",
       "    .dataframe tbody tr th {\n",
       "        vertical-align: top;\n",
       "    }\n",
       "\n",
       "    .dataframe thead th {\n",
       "        text-align: right;\n",
       "    }\n",
       "</style>\n",
       "<table border=\"1\" class=\"dataframe\">\n",
       "  <thead>\n",
       "    <tr style=\"text-align: right;\">\n",
       "      <th></th>\n",
       "      <th>MW</th>\n",
       "      <th>AMW</th>\n",
       "      <th>Sv</th>\n",
       "      <th>Mv</th>\n",
       "      <th>Me</th>\n",
       "      <th>Mp</th>\n",
       "      <th>Mi</th>\n",
       "      <th>nBM</th>\n",
       "      <th>RBN</th>\n",
       "      <th>RBF</th>\n",
       "      <th>...</th>\n",
       "      <th>DLS_07</th>\n",
       "      <th>DLS_cons</th>\n",
       "      <th>LLS_01</th>\n",
       "      <th>LLS_02</th>\n",
       "      <th>CMC-80</th>\n",
       "      <th>Inflammat-80</th>\n",
       "      <th>Psychotic-80</th>\n",
       "      <th>Hypertens-80</th>\n",
       "      <th>Neoplastic-80</th>\n",
       "      <th>Infective-80</th>\n",
       "    </tr>\n",
       "    <tr>\n",
       "      <th>No.</th>\n",
       "      <th></th>\n",
       "      <th></th>\n",
       "      <th></th>\n",
       "      <th></th>\n",
       "      <th></th>\n",
       "      <th></th>\n",
       "      <th></th>\n",
       "      <th></th>\n",
       "      <th></th>\n",
       "      <th></th>\n",
       "      <th></th>\n",
       "      <th></th>\n",
       "      <th></th>\n",
       "      <th></th>\n",
       "      <th></th>\n",
       "      <th></th>\n",
       "      <th></th>\n",
       "      <th></th>\n",
       "      <th></th>\n",
       "      <th></th>\n",
       "      <th></th>\n",
       "    </tr>\n",
       "  </thead>\n",
       "  <tbody>\n",
       "    <tr>\n",
       "      <th>1</th>\n",
       "      <td>650.98</td>\n",
       "      <td>18.599</td>\n",
       "      <td>26.519</td>\n",
       "      <td>0.758</td>\n",
       "      <td>1.023</td>\n",
       "      <td>0.889</td>\n",
       "      <td>1.097</td>\n",
       "      <td>13</td>\n",
       "      <td>5</td>\n",
       "      <td>0.139</td>\n",
       "      <td>...</td>\n",
       "      <td>1.0</td>\n",
       "      <td>0.65</td>\n",
       "      <td>0.17</td>\n",
       "      <td>0.88</td>\n",
       "      <td>0</td>\n",
       "      <td>0</td>\n",
       "      <td>0</td>\n",
       "      <td>0</td>\n",
       "      <td>0</td>\n",
       "      <td>0</td>\n",
       "    </tr>\n",
       "    <tr>\n",
       "      <th>3</th>\n",
       "      <td>567.18</td>\n",
       "      <td>12.890</td>\n",
       "      <td>29.782</td>\n",
       "      <td>0.677</td>\n",
       "      <td>1.009</td>\n",
       "      <td>0.767</td>\n",
       "      <td>1.112</td>\n",
       "      <td>13</td>\n",
       "      <td>6</td>\n",
       "      <td>0.133</td>\n",
       "      <td>...</td>\n",
       "      <td>1.0</td>\n",
       "      <td>0.88</td>\n",
       "      <td>0.17</td>\n",
       "      <td>0.88</td>\n",
       "      <td>0</td>\n",
       "      <td>0</td>\n",
       "      <td>0</td>\n",
       "      <td>0</td>\n",
       "      <td>0</td>\n",
       "      <td>0</td>\n",
       "    </tr>\n",
       "    <tr>\n",
       "      <th>4</th>\n",
       "      <td>635.96</td>\n",
       "      <td>19.272</td>\n",
       "      <td>25.497</td>\n",
       "      <td>0.773</td>\n",
       "      <td>1.021</td>\n",
       "      <td>0.913</td>\n",
       "      <td>1.088</td>\n",
       "      <td>13</td>\n",
       "      <td>5</td>\n",
       "      <td>0.147</td>\n",
       "      <td>...</td>\n",
       "      <td>1.0</td>\n",
       "      <td>0.61</td>\n",
       "      <td>0.17</td>\n",
       "      <td>0.75</td>\n",
       "      <td>0</td>\n",
       "      <td>0</td>\n",
       "      <td>0</td>\n",
       "      <td>0</td>\n",
       "      <td>0</td>\n",
       "      <td>0</td>\n",
       "    </tr>\n",
       "    <tr>\n",
       "      <th>5</th>\n",
       "      <td>458.16</td>\n",
       "      <td>10.909</td>\n",
       "      <td>28.178</td>\n",
       "      <td>0.671</td>\n",
       "      <td>1.014</td>\n",
       "      <td>0.718</td>\n",
       "      <td>1.111</td>\n",
       "      <td>13</td>\n",
       "      <td>6</td>\n",
       "      <td>0.140</td>\n",
       "      <td>...</td>\n",
       "      <td>1.0</td>\n",
       "      <td>0.87</td>\n",
       "      <td>0.17</td>\n",
       "      <td>0.88</td>\n",
       "      <td>0</td>\n",
       "      <td>0</td>\n",
       "      <td>0</td>\n",
       "      <td>0</td>\n",
       "      <td>0</td>\n",
       "      <td>0</td>\n",
       "    </tr>\n",
       "    <tr>\n",
       "      <th>6</th>\n",
       "      <td>430.10</td>\n",
       "      <td>11.947</td>\n",
       "      <td>25.124</td>\n",
       "      <td>0.698</td>\n",
       "      <td>1.023</td>\n",
       "      <td>0.739</td>\n",
       "      <td>1.107</td>\n",
       "      <td>13</td>\n",
       "      <td>4</td>\n",
       "      <td>0.108</td>\n",
       "      <td>...</td>\n",
       "      <td>1.0</td>\n",
       "      <td>0.87</td>\n",
       "      <td>0.17</td>\n",
       "      <td>1.00</td>\n",
       "      <td>1</td>\n",
       "      <td>0</td>\n",
       "      <td>0</td>\n",
       "      <td>0</td>\n",
       "      <td>0</td>\n",
       "      <td>0</td>\n",
       "    </tr>\n",
       "  </tbody>\n",
       "</table>\n",
       "<p>5 rows × 1176 columns</p>\n",
       "</div>"
      ],
      "text/plain": [
       "         MW     AMW      Sv     Mv     Me     Mp     Mi  nBM  RBN    RBF  ...  \\\n",
       "No.                                                                       ...   \n",
       "1    650.98  18.599  26.519  0.758  1.023  0.889  1.097   13    5  0.139  ...   \n",
       "3    567.18  12.890  29.782  0.677  1.009  0.767  1.112   13    6  0.133  ...   \n",
       "4    635.96  19.272  25.497  0.773  1.021  0.913  1.088   13    5  0.147  ...   \n",
       "5    458.16  10.909  28.178  0.671  1.014  0.718  1.111   13    6  0.140  ...   \n",
       "6    430.10  11.947  25.124  0.698  1.023  0.739  1.107   13    4  0.108  ...   \n",
       "\n",
       "     DLS_07  DLS_cons  LLS_01  LLS_02  CMC-80  Inflammat-80  Psychotic-80  \\\n",
       "No.                                                                         \n",
       "1       1.0      0.65    0.17    0.88       0             0             0   \n",
       "3       1.0      0.88    0.17    0.88       0             0             0   \n",
       "4       1.0      0.61    0.17    0.75       0             0             0   \n",
       "5       1.0      0.87    0.17    0.88       0             0             0   \n",
       "6       1.0      0.87    0.17    1.00       1             0             0   \n",
       "\n",
       "     Hypertens-80  Neoplastic-80  Infective-80  \n",
       "No.                                             \n",
       "1               0              0             0  \n",
       "3               0              0             0  \n",
       "4               0              0             0  \n",
       "5               0              0             0  \n",
       "6               0              0             0  \n",
       "\n",
       "[5 rows x 1176 columns]"
      ]
     },
     "execution_count": 29,
     "metadata": {},
     "output_type": "execute_result"
    }
   ],
   "source": [
    "xt.head()"
   ]
  },
  {
   "cell_type": "code",
   "execution_count": 30,
   "metadata": {},
   "outputs": [
    {
     "data": {
      "text/html": [
       "<div>\n",
       "<style scoped>\n",
       "    .dataframe tbody tr th:only-of-type {\n",
       "        vertical-align: middle;\n",
       "    }\n",
       "\n",
       "    .dataframe tbody tr th {\n",
       "        vertical-align: top;\n",
       "    }\n",
       "\n",
       "    .dataframe thead th {\n",
       "        text-align: right;\n",
       "    }\n",
       "</style>\n",
       "<table border=\"1\" class=\"dataframe\">\n",
       "  <thead>\n",
       "    <tr style=\"text-align: right;\">\n",
       "      <th></th>\n",
       "      <th>MW</th>\n",
       "      <th>AMW</th>\n",
       "      <th>Sv</th>\n",
       "      <th>Mv</th>\n",
       "      <th>Me</th>\n",
       "      <th>Mp</th>\n",
       "      <th>Mi</th>\n",
       "      <th>nBM</th>\n",
       "      <th>RBN</th>\n",
       "      <th>RBF</th>\n",
       "      <th>...</th>\n",
       "      <th>DLS_07</th>\n",
       "      <th>DLS_cons</th>\n",
       "      <th>LLS_01</th>\n",
       "      <th>LLS_02</th>\n",
       "      <th>CMC-80</th>\n",
       "      <th>Inflammat-80</th>\n",
       "      <th>Psychotic-80</th>\n",
       "      <th>Hypertens-80</th>\n",
       "      <th>Neoplastic-80</th>\n",
       "      <th>Infective-80</th>\n",
       "    </tr>\n",
       "    <tr>\n",
       "      <th>No.</th>\n",
       "      <th></th>\n",
       "      <th></th>\n",
       "      <th></th>\n",
       "      <th></th>\n",
       "      <th></th>\n",
       "      <th></th>\n",
       "      <th></th>\n",
       "      <th></th>\n",
       "      <th></th>\n",
       "      <th></th>\n",
       "      <th></th>\n",
       "      <th></th>\n",
       "      <th></th>\n",
       "      <th></th>\n",
       "      <th></th>\n",
       "      <th></th>\n",
       "      <th></th>\n",
       "      <th></th>\n",
       "      <th></th>\n",
       "      <th></th>\n",
       "      <th></th>\n",
       "    </tr>\n",
       "  </thead>\n",
       "  <tbody>\n",
       "    <tr>\n",
       "      <th>1</th>\n",
       "      <td>650.98</td>\n",
       "      <td>18.599</td>\n",
       "      <td>26.519</td>\n",
       "      <td>0.758</td>\n",
       "      <td>1.023</td>\n",
       "      <td>0.889</td>\n",
       "      <td>1.097</td>\n",
       "      <td>13</td>\n",
       "      <td>5</td>\n",
       "      <td>0.139</td>\n",
       "      <td>...</td>\n",
       "      <td>1.0</td>\n",
       "      <td>0.65</td>\n",
       "      <td>0.17</td>\n",
       "      <td>0.88</td>\n",
       "      <td>0</td>\n",
       "      <td>0</td>\n",
       "      <td>0</td>\n",
       "      <td>0</td>\n",
       "      <td>0</td>\n",
       "      <td>0</td>\n",
       "    </tr>\n",
       "    <tr>\n",
       "      <th>3</th>\n",
       "      <td>567.18</td>\n",
       "      <td>12.890</td>\n",
       "      <td>29.782</td>\n",
       "      <td>0.677</td>\n",
       "      <td>1.009</td>\n",
       "      <td>0.767</td>\n",
       "      <td>1.112</td>\n",
       "      <td>13</td>\n",
       "      <td>6</td>\n",
       "      <td>0.133</td>\n",
       "      <td>...</td>\n",
       "      <td>1.0</td>\n",
       "      <td>0.88</td>\n",
       "      <td>0.17</td>\n",
       "      <td>0.88</td>\n",
       "      <td>0</td>\n",
       "      <td>0</td>\n",
       "      <td>0</td>\n",
       "      <td>0</td>\n",
       "      <td>0</td>\n",
       "      <td>0</td>\n",
       "    </tr>\n",
       "    <tr>\n",
       "      <th>4</th>\n",
       "      <td>635.96</td>\n",
       "      <td>19.272</td>\n",
       "      <td>25.497</td>\n",
       "      <td>0.773</td>\n",
       "      <td>1.021</td>\n",
       "      <td>0.913</td>\n",
       "      <td>1.088</td>\n",
       "      <td>13</td>\n",
       "      <td>5</td>\n",
       "      <td>0.147</td>\n",
       "      <td>...</td>\n",
       "      <td>1.0</td>\n",
       "      <td>0.61</td>\n",
       "      <td>0.17</td>\n",
       "      <td>0.75</td>\n",
       "      <td>0</td>\n",
       "      <td>0</td>\n",
       "      <td>0</td>\n",
       "      <td>0</td>\n",
       "      <td>0</td>\n",
       "      <td>0</td>\n",
       "    </tr>\n",
       "    <tr>\n",
       "      <th>5</th>\n",
       "      <td>458.16</td>\n",
       "      <td>10.909</td>\n",
       "      <td>28.178</td>\n",
       "      <td>0.671</td>\n",
       "      <td>1.014</td>\n",
       "      <td>0.718</td>\n",
       "      <td>1.111</td>\n",
       "      <td>13</td>\n",
       "      <td>6</td>\n",
       "      <td>0.140</td>\n",
       "      <td>...</td>\n",
       "      <td>1.0</td>\n",
       "      <td>0.87</td>\n",
       "      <td>0.17</td>\n",
       "      <td>0.88</td>\n",
       "      <td>0</td>\n",
       "      <td>0</td>\n",
       "      <td>0</td>\n",
       "      <td>0</td>\n",
       "      <td>0</td>\n",
       "      <td>0</td>\n",
       "    </tr>\n",
       "    <tr>\n",
       "      <th>6</th>\n",
       "      <td>430.10</td>\n",
       "      <td>11.947</td>\n",
       "      <td>25.124</td>\n",
       "      <td>0.698</td>\n",
       "      <td>1.023</td>\n",
       "      <td>0.739</td>\n",
       "      <td>1.107</td>\n",
       "      <td>13</td>\n",
       "      <td>4</td>\n",
       "      <td>0.108</td>\n",
       "      <td>...</td>\n",
       "      <td>1.0</td>\n",
       "      <td>0.87</td>\n",
       "      <td>0.17</td>\n",
       "      <td>1.00</td>\n",
       "      <td>1</td>\n",
       "      <td>0</td>\n",
       "      <td>0</td>\n",
       "      <td>0</td>\n",
       "      <td>0</td>\n",
       "      <td>0</td>\n",
       "    </tr>\n",
       "  </tbody>\n",
       "</table>\n",
       "<p>5 rows × 1176 columns</p>\n",
       "</div>"
      ],
      "text/plain": [
       "         MW     AMW      Sv     Mv     Me     Mp     Mi  nBM  RBN    RBF  ...  \\\n",
       "No.                                                                       ...   \n",
       "1    650.98  18.599  26.519  0.758  1.023  0.889  1.097   13    5  0.139  ...   \n",
       "3    567.18  12.890  29.782  0.677  1.009  0.767  1.112   13    6  0.133  ...   \n",
       "4    635.96  19.272  25.497  0.773  1.021  0.913  1.088   13    5  0.147  ...   \n",
       "5    458.16  10.909  28.178  0.671  1.014  0.718  1.111   13    6  0.140  ...   \n",
       "6    430.10  11.947  25.124  0.698  1.023  0.739  1.107   13    4  0.108  ...   \n",
       "\n",
       "     DLS_07  DLS_cons  LLS_01  LLS_02  CMC-80  Inflammat-80  Psychotic-80  \\\n",
       "No.                                                                         \n",
       "1       1.0      0.65    0.17    0.88       0             0             0   \n",
       "3       1.0      0.88    0.17    0.88       0             0             0   \n",
       "4       1.0      0.61    0.17    0.75       0             0             0   \n",
       "5       1.0      0.87    0.17    0.88       0             0             0   \n",
       "6       1.0      0.87    0.17    1.00       1             0             0   \n",
       "\n",
       "     Hypertens-80  Neoplastic-80  Infective-80  \n",
       "No.                                             \n",
       "1               0              0             0  \n",
       "3               0              0             0  \n",
       "4               0              0             0  \n",
       "5               0              0             0  \n",
       "6               0              0             0  \n",
       "\n",
       "[5 rows x 1176 columns]"
      ]
     },
     "execution_count": 30,
     "metadata": {},
     "output_type": "execute_result"
    }
   ],
   "source": [
    "xt.head()"
   ]
  },
  {
   "cell_type": "code",
   "execution_count": 31,
   "metadata": {},
   "outputs": [
    {
     "data": {
      "text/plain": [
       "(85, 1176)"
      ]
     },
     "execution_count": 31,
     "metadata": {},
     "output_type": "execute_result"
    }
   ],
   "source": [
    "xt.shape"
   ]
  },
  {
   "cell_type": "code",
   "execution_count": 32,
   "metadata": {},
   "outputs": [
    {
     "data": {
      "text/plain": [
       "(85,)"
      ]
     },
     "execution_count": 32,
     "metadata": {},
     "output_type": "execute_result"
    }
   ],
   "source": [
    "yt.shape"
   ]
  },
  {
   "cell_type": "code",
   "execution_count": 34,
   "metadata": {},
   "outputs": [
    {
     "name": "stderr",
     "output_type": "stream",
     "text": [
      "/Users/lisabang/anaconda3/lib/python3.7/site-packages/ipykernel_launcher.py:30: FutureWarning: `rcond` parameter will change to the default of machine precision times ``max(M, N)`` where M and N are the input matrix dimensions.\n",
      "To use the future default and silence this warning we advise to pass `rcond=None`, to keep using the old, explicitly pass `rcond=-1`.\n"
     ]
    },
    {
     "data": {
      "text/plain": [
       "(array([-0.01674604,  0.00391377, -0.00384408, ..., -0.00208741,\n",
       "         0.00114585,  0.00030916]), array([], dtype=float64))"
      ]
     },
     "execution_count": 34,
     "metadata": {},
     "output_type": "execute_result"
    }
   ],
   "source": [
    "mlrr(xt, yt)"
   ]
  },
  {
   "cell_type": "code",
   "execution_count": 271,
   "metadata": {},
   "outputs": [],
   "source": [
    "#xt=xt.loc[yt.index]"
   ]
  },
  {
   "cell_type": "code",
   "execution_count": 272,
   "metadata": {},
   "outputs": [],
   "source": [
    "#yt=pd.DataFrame(yt)"
   ]
  },
  {
   "cell_type": "code",
   "execution_count": 273,
   "metadata": {},
   "outputs": [
    {
     "data": {
      "text/html": [
       "<div>\n",
       "<style scoped>\n",
       "    .dataframe tbody tr th:only-of-type {\n",
       "        vertical-align: middle;\n",
       "    }\n",
       "\n",
       "    .dataframe tbody tr th {\n",
       "        vertical-align: top;\n",
       "    }\n",
       "\n",
       "    .dataframe thead th {\n",
       "        text-align: right;\n",
       "    }\n",
       "</style>\n",
       "<table border=\"1\" class=\"dataframe\">\n",
       "  <thead>\n",
       "    <tr style=\"text-align: right;\">\n",
       "      <th></th>\n",
       "      <th>MW</th>\n",
       "      <th>AMW</th>\n",
       "      <th>Sv</th>\n",
       "      <th>Mv</th>\n",
       "      <th>Me</th>\n",
       "      <th>Mp</th>\n",
       "      <th>Mi</th>\n",
       "      <th>nBM</th>\n",
       "      <th>RBN</th>\n",
       "      <th>RBF</th>\n",
       "      <th>...</th>\n",
       "      <th>DLS_07</th>\n",
       "      <th>DLS_cons</th>\n",
       "      <th>LLS_01</th>\n",
       "      <th>LLS_02</th>\n",
       "      <th>CMC-80</th>\n",
       "      <th>Inflammat-80</th>\n",
       "      <th>Psychotic-80</th>\n",
       "      <th>Hypertens-80</th>\n",
       "      <th>Neoplastic-80</th>\n",
       "      <th>Infective-80</th>\n",
       "    </tr>\n",
       "    <tr>\n",
       "      <th>No.</th>\n",
       "      <th></th>\n",
       "      <th></th>\n",
       "      <th></th>\n",
       "      <th></th>\n",
       "      <th></th>\n",
       "      <th></th>\n",
       "      <th></th>\n",
       "      <th></th>\n",
       "      <th></th>\n",
       "      <th></th>\n",
       "      <th></th>\n",
       "      <th></th>\n",
       "      <th></th>\n",
       "      <th></th>\n",
       "      <th></th>\n",
       "      <th></th>\n",
       "      <th></th>\n",
       "      <th></th>\n",
       "      <th></th>\n",
       "      <th></th>\n",
       "      <th></th>\n",
       "    </tr>\n",
       "  </thead>\n",
       "  <tbody>\n",
       "    <tr>\n",
       "      <th>1</th>\n",
       "      <td>650.98</td>\n",
       "      <td>18.599</td>\n",
       "      <td>26.519</td>\n",
       "      <td>0.758</td>\n",
       "      <td>1.023</td>\n",
       "      <td>0.889</td>\n",
       "      <td>1.097</td>\n",
       "      <td>13</td>\n",
       "      <td>5</td>\n",
       "      <td>0.139</td>\n",
       "      <td>...</td>\n",
       "      <td>1.0</td>\n",
       "      <td>0.65</td>\n",
       "      <td>0.17</td>\n",
       "      <td>0.88</td>\n",
       "      <td>0</td>\n",
       "      <td>0</td>\n",
       "      <td>0</td>\n",
       "      <td>0</td>\n",
       "      <td>0</td>\n",
       "      <td>0</td>\n",
       "    </tr>\n",
       "    <tr>\n",
       "      <th>3</th>\n",
       "      <td>567.18</td>\n",
       "      <td>12.890</td>\n",
       "      <td>29.782</td>\n",
       "      <td>0.677</td>\n",
       "      <td>1.009</td>\n",
       "      <td>0.767</td>\n",
       "      <td>1.112</td>\n",
       "      <td>13</td>\n",
       "      <td>6</td>\n",
       "      <td>0.133</td>\n",
       "      <td>...</td>\n",
       "      <td>1.0</td>\n",
       "      <td>0.88</td>\n",
       "      <td>0.17</td>\n",
       "      <td>0.88</td>\n",
       "      <td>0</td>\n",
       "      <td>0</td>\n",
       "      <td>0</td>\n",
       "      <td>0</td>\n",
       "      <td>0</td>\n",
       "      <td>0</td>\n",
       "    </tr>\n",
       "    <tr>\n",
       "      <th>4</th>\n",
       "      <td>635.96</td>\n",
       "      <td>19.272</td>\n",
       "      <td>25.497</td>\n",
       "      <td>0.773</td>\n",
       "      <td>1.021</td>\n",
       "      <td>0.913</td>\n",
       "      <td>1.088</td>\n",
       "      <td>13</td>\n",
       "      <td>5</td>\n",
       "      <td>0.147</td>\n",
       "      <td>...</td>\n",
       "      <td>1.0</td>\n",
       "      <td>0.61</td>\n",
       "      <td>0.17</td>\n",
       "      <td>0.75</td>\n",
       "      <td>0</td>\n",
       "      <td>0</td>\n",
       "      <td>0</td>\n",
       "      <td>0</td>\n",
       "      <td>0</td>\n",
       "      <td>0</td>\n",
       "    </tr>\n",
       "    <tr>\n",
       "      <th>5</th>\n",
       "      <td>458.16</td>\n",
       "      <td>10.909</td>\n",
       "      <td>28.178</td>\n",
       "      <td>0.671</td>\n",
       "      <td>1.014</td>\n",
       "      <td>0.718</td>\n",
       "      <td>1.111</td>\n",
       "      <td>13</td>\n",
       "      <td>6</td>\n",
       "      <td>0.140</td>\n",
       "      <td>...</td>\n",
       "      <td>1.0</td>\n",
       "      <td>0.87</td>\n",
       "      <td>0.17</td>\n",
       "      <td>0.88</td>\n",
       "      <td>0</td>\n",
       "      <td>0</td>\n",
       "      <td>0</td>\n",
       "      <td>0</td>\n",
       "      <td>0</td>\n",
       "      <td>0</td>\n",
       "    </tr>\n",
       "    <tr>\n",
       "      <th>6</th>\n",
       "      <td>430.10</td>\n",
       "      <td>11.947</td>\n",
       "      <td>25.124</td>\n",
       "      <td>0.698</td>\n",
       "      <td>1.023</td>\n",
       "      <td>0.739</td>\n",
       "      <td>1.107</td>\n",
       "      <td>13</td>\n",
       "      <td>4</td>\n",
       "      <td>0.108</td>\n",
       "      <td>...</td>\n",
       "      <td>1.0</td>\n",
       "      <td>0.87</td>\n",
       "      <td>0.17</td>\n",
       "      <td>1.00</td>\n",
       "      <td>1</td>\n",
       "      <td>0</td>\n",
       "      <td>0</td>\n",
       "      <td>0</td>\n",
       "      <td>0</td>\n",
       "      <td>0</td>\n",
       "    </tr>\n",
       "  </tbody>\n",
       "</table>\n",
       "<p>5 rows × 1176 columns</p>\n",
       "</div>"
      ],
      "text/plain": [
       "         MW     AMW      Sv     Mv     Me     Mp     Mi  nBM  RBN    RBF  ...  \\\n",
       "No.                                                                       ...   \n",
       "1    650.98  18.599  26.519  0.758  1.023  0.889  1.097   13    5  0.139  ...   \n",
       "3    567.18  12.890  29.782  0.677  1.009  0.767  1.112   13    6  0.133  ...   \n",
       "4    635.96  19.272  25.497  0.773  1.021  0.913  1.088   13    5  0.147  ...   \n",
       "5    458.16  10.909  28.178  0.671  1.014  0.718  1.111   13    6  0.140  ...   \n",
       "6    430.10  11.947  25.124  0.698  1.023  0.739  1.107   13    4  0.108  ...   \n",
       "\n",
       "     DLS_07  DLS_cons  LLS_01  LLS_02  CMC-80  Inflammat-80  Psychotic-80  \\\n",
       "No.                                                                         \n",
       "1       1.0      0.65    0.17    0.88       0             0             0   \n",
       "3       1.0      0.88    0.17    0.88       0             0             0   \n",
       "4       1.0      0.61    0.17    0.75       0             0             0   \n",
       "5       1.0      0.87    0.17    0.88       0             0             0   \n",
       "6       1.0      0.87    0.17    1.00       1             0             0   \n",
       "\n",
       "     Hypertens-80  Neoplastic-80  Infective-80  \n",
       "No.                                             \n",
       "1               0              0             0  \n",
       "3               0              0             0  \n",
       "4               0              0             0  \n",
       "5               0              0             0  \n",
       "6               0              0             0  \n",
       "\n",
       "[5 rows x 1176 columns]"
      ]
     },
     "execution_count": 273,
     "metadata": {},
     "output_type": "execute_result"
    }
   ],
   "source": [
    "xt.head()"
   ]
  },
  {
   "cell_type": "code",
   "execution_count": 274,
   "metadata": {
    "scrolled": true
   },
   "outputs": [],
   "source": [
    "#%timeit pmlr(xt,yt)"
   ]
  },
  {
   "cell_type": "code",
   "execution_count": 275,
   "metadata": {},
   "outputs": [],
   "source": [
    "#%timeit mlrr(xt,yt)"
   ]
  },
  {
   "cell_type": "code",
   "execution_count": 278,
   "metadata": {},
   "outputs": [
    {
     "name": "stdout",
     "output_type": "stream",
     "text": [
      "KFold(n_splits=5, random_state=None, shuffle=False)\n"
     ]
    },
    {
     "name": "stderr",
     "output_type": "stream",
     "text": [
      "/home/lisa/PycharmProjects/deapVS/venv/lib/python3.6/site-packages/ipykernel_launcher.py:30: FutureWarning: `rcond` parameter will change to the default of machine precision times ``max(M, N)`` where M and N are the input matrix dimensions.\n",
      "To use the future default and silence this warning we advise to pass `rcond=None`, to keep using the old, explicitly pass `rcond=-1`.\n"
     ]
    },
    {
     "data": {
      "text/plain": [
       "array([[36.28588632],\n",
       "       [87.01518463],\n",
       "       [93.20532179],\n",
       "       [92.97481114],\n",
       "       [84.83665839]])"
      ]
     },
     "execution_count": 278,
     "metadata": {},
     "output_type": "execute_result"
    }
   ],
   "source": [
    "kfoldmlr(xt[[\"MW\", \"nBM\", \"LLS_02\", \"Sv\"]],yt, nfolds=5, mean=False)"
   ]
  },
  {
   "cell_type": "code",
   "execution_count": 277,
   "metadata": {},
   "outputs": [
    {
     "name": "stdout",
     "output_type": "stream",
     "text": [
      "KFold(n_splits=5, random_state=None, shuffle=False)\n"
     ]
    },
    {
     "name": "stderr",
     "output_type": "stream",
     "text": [
      "/home/lisa/PycharmProjects/deapVS/venv/lib/python3.6/site-packages/ipykernel_launcher.py:30: FutureWarning: `rcond` parameter will change to the default of machine precision times ``max(M, N)`` where M and N are the input matrix dimensions.\n",
      "To use the future default and silence this warning we advise to pass `rcond=None`, to keep using the old, explicitly pass `rcond=-1`.\n"
     ]
    },
    {
     "data": {
      "text/plain": [
       "78.86357245125437"
      ]
     },
     "execution_count": 277,
     "metadata": {},
     "output_type": "execute_result"
    }
   ],
   "source": [
    "kfoldmlr(xt[[\"MW\", \"nBM\", \"LLS_02\", \"Sv\"]],yt, nfolds=5, mean=True)"
   ]
  },
  {
   "cell_type": "code",
   "execution_count": 280,
   "metadata": {},
   "outputs": [
    {
     "name": "stdout",
     "output_type": "stream",
     "text": [
      "KFold(n_splits=85, random_state=None, shuffle=False)\n"
     ]
    },
    {
     "name": "stderr",
     "output_type": "stream",
     "text": [
      "/home/lisa/PycharmProjects/deapVS/venv/lib/python3.6/site-packages/ipykernel_launcher.py:30: FutureWarning: `rcond` parameter will change to the default of machine precision times ``max(M, N)`` where M and N are the input matrix dimensions.\n",
      "To use the future default and silence this warning we advise to pass `rcond=None`, to keep using the old, explicitly pass `rcond=-1`.\n"
     ]
    },
    {
     "data": {
      "text/plain": [
       "103.54935038946525"
      ]
     },
     "execution_count": 280,
     "metadata": {},
     "output_type": "execute_result"
    }
   ],
   "source": [
    "kfoldmlr(xt[[\"MW\", \"nBM\", \"LLS_02\", \"Sv\"]],yt, nfolds=85, mean=True)"
   ]
  },
  {
   "cell_type": "code",
   "execution_count": 281,
   "metadata": {},
   "outputs": [
    {
     "name": "stdout",
     "output_type": "stream",
     "text": [
      "KFold(n_splits=17, random_state=None, shuffle=False)\n"
     ]
    },
    {
     "name": "stderr",
     "output_type": "stream",
     "text": [
      "/home/lisa/PycharmProjects/deapVS/venv/lib/python3.6/site-packages/ipykernel_launcher.py:30: FutureWarning: `rcond` parameter will change to the default of machine precision times ``max(M, N)`` where M and N are the input matrix dimensions.\n",
      "To use the future default and silence this warning we advise to pass `rcond=None`, to keep using the old, explicitly pass `rcond=-1`.\n"
     ]
    },
    {
     "data": {
      "text/plain": [
       "97.13213851267417"
      ]
     },
     "execution_count": 281,
     "metadata": {},
     "output_type": "execute_result"
    }
   ],
   "source": [
    "kfoldmlr(xt[[\"MW\", \"nBM\", \"LLS_02\", \"Sv\"]],yt, nfolds=17, mean=True)"
   ]
  },
  {
   "cell_type": "code",
   "execution_count": 264,
   "metadata": {},
   "outputs": [
    {
     "name": "stdout",
     "output_type": "stream",
     "text": [
      "KFold(n_splits=5, random_state=None, shuffle=False)\n"
     ]
    },
    {
     "name": "stderr",
     "output_type": "stream",
     "text": [
      "/home/lisa/PycharmProjects/deapVS/venv/lib/python3.6/site-packages/ipykernel_launcher.py:30: FutureWarning: `rcond` parameter will change to the default of machine precision times ``max(M, N)`` where M and N are the input matrix dimensions.\n",
      "To use the future default and silence this warning we advise to pass `rcond=None`, to keep using the old, explicitly pass `rcond=-1`.\n"
     ]
    },
    {
     "data": {
      "image/png": "[encoded data removed]",
      "text/plain": [
       "<Figure size 432x288 with 1 Axes>"
      ]
     },
     "metadata": {
      "needs_background": "light"
     },
     "output_type": "display_data"
    },
    {
     "data": {
      "image/png": "[encoded data removed]",
      "text/plain": [
       "<Figure size 432x288 with 1 Axes>"
      ]
     },
     "metadata": {
      "needs_background": "light"
     },
     "output_type": "display_data"
    },
    {
     "data": {
      "image/png": "[encoded data removed]",
      "text/plain": [
       "<Figure size 432x288 with 1 Axes>"
      ]
     },
     "metadata": {
      "needs_background": "light"
     },
     "output_type": "display_data"
    },
    {
     "data": {
      "image/png": "[encoded data removed]",
      "text/plain": [
       "<Figure size 432x288 with 1 Axes>"
      ]
     },
     "metadata": {
      "needs_background": "light"
     },
     "output_type": "display_data"
    },
    {
     "data": {
      "image/png": "[encoded data removed]",
      "text/plain": [
       "<Figure size 432x288 with 1 Axes>"
      ]
     },
     "metadata": {
      "needs_background": "light"
     },
     "output_type": "display_data"
    }
   ],
   "source": [
    "kfoldmlrplot(xt[[\"MW\", \"nBM\", \"LLS_02\", \"Sv\"]],yt, nfolds=5)"
   ]
  },
  {
   "cell_type": "code",
   "execution_count": null,
   "metadata": {},
   "outputs": [],
   "source": []
  },
  {
   "cell_type": "code",
   "execution_count": null,
   "metadata": {},
   "outputs": [],
   "source": []
  }
 ],
 "metadata": {
  "kernelspec": {
   "display_name": "Python 3",
   "language": "python",
   "name": "python3"
  },
  "language_info": {
   "codemirror_mode": {
    "name": "ipython",
    "version": 3
   },
   "file_extension": ".py",
   "mimetype": "text/x-python",
   "name": "python",
   "nbconvert_exporter": "python",
   "pygments_lexer": "ipython3",
   "version": "3.7.3"
  }
 },
 "nbformat": 4,
 "nbformat_minor": 2
}
